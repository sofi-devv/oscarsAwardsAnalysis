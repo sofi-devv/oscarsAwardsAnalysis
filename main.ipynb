{
 "cells": [
  {
   "cell_type": "code",
   "execution_count": null,
   "metadata": {},
   "outputs": [],
   "source": [
    "pip install selenium"
   ]
  },
  {
   "cell_type": "markdown",
   "metadata": {},
   "source": [
    "# Extracción de los ganadores a mejor pelicula internacional "
   ]
  },
  {
   "cell_type": "code",
   "execution_count": 3,
   "metadata": {},
   "outputs": [],
   "source": [
    "from selenium import webdriver\n",
    "from selenium.webdriver.common.by import By\n",
    "from selenium.common.exceptions import NoSuchElementException\n",
    "import pandas as pd\n",
    "driver = webdriver.Chrome()"
   ]
  },
  {
   "cell_type": "code",
   "execution_count": 109,
   "metadata": {},
   "outputs": [],
   "source": [
    "driver.get(\"https://es.wikipedia.org/wiki/Anexo:Ganadores_y_nominados_del_%C3%93scar_a_la_mejor_pel%C3%ADcula_internacional#1947-1949\")\n",
    "\n",
    "# Inicializar la lista para las tablas\n",
    "tables = []\n",
    "\n",
    "# Generar los XPaths y recoger las tablas\n",
    "for i in range(3, 11):  # Ajustado a 10 para incluir la tabla 9\n",
    "    xpath = f\"/html/body/div[2]/div/div[3]/main/div[3]/div[3]/div[1]/table[{i}]\"\n",
    "    table = driver.find_element(By.XPATH, xpath)\n",
    "    tables.append(table)\n",
    "\n",
    "# Inicializar una lista para almacenar los datos\n",
    "oscars_data = []"
   ]
  },
  {
   "cell_type": "code",
   "execution_count": null,
   "metadata": {},
   "outputs": [],
   "source": [
    "for table in tables:\n",
    "    rows = table.find_elements(By.TAG_NAME, 'tr')\n",
    "    inicio = 1\n",
    "    fin = len(rows) \n",
    "    print(fin)\n",
    "    salto = 5\n",
    "\n",
    "    for i in range(inicio, fin, salto):\n",
    "        cells = rows[i].find_elements(By.TAG_NAME, 'td')\n",
    "        print(len(cells))\n",
    "        año = cells[0].find_element(By.TAG_NAME, 'a').text\n",
    "        titulo = cells[1].text\n",
    "        \n",
    "        link = cells[1].find_element(By.TAG_NAME, 'a').get_attribute('href')\n",
    "        titulo_original = cells[2].text\n",
    "        pais = cells[3].text\n",
    "        director = cells[4].text\n",
    "        idioma = cells[5].text\n",
    "        \n",
    "        print(titulo)\n",
    "        \n",
    "        oscars_data.append([año, titulo, titulo_original, pais, director, idioma, link])\n",
    "        \n",
    "\n",
    "# Crear un DataFrame con los datos\n",
    "df = pd.DataFrame(oscars_data, columns=['Año', 'Título', 'Título original', 'País', 'Director', 'Idioma', 'Link'])\n",
    "\n"
   ]
  },
  {
   "cell_type": "code",
   "execution_count": 114,
   "metadata": {},
   "outputs": [],
   "source": [
    "# pasar a csv\n",
    "df.to_csv('oscars_2.csv', index=False)"
   ]
  },
  {
   "cell_type": "markdown",
   "metadata": {},
   "source": [
    "# Extracción de sinopsis de las peliculas"
   ]
  },
  {
   "cell_type": "code",
   "execution_count": null,
   "metadata": {},
   "outputs": [],
   "source": [
    "Ruta = 'oscars_2.csv'\n",
    "df = pd.read_csv(Ruta)\n",
    "links = df['Link']\n",
    "links"
   ]
  },
  {
   "cell_type": "code",
   "execution_count": null,
   "metadata": {},
   "outputs": [],
   "source": [
    "def get_paragraph_text(url):\n",
    "    \"\"\"Function to retrieve the text of the first <p> element following the first <h2>.\"\"\"\n",
    "    driver.get(url)\n",
    "    try:\n",
    "        # Adjusted XPath to use a more robust relative path approach\n",
    "        p = driver.find_element(By.XPATH, \"/html/body/div[2]/div/div[3]/main/div[3]/div[3]/div[1]/h2[1]/following-sibling::p[1]\")\n",
    "        print(url)\n",
    "        print(p.text)\n",
    "        return p.text\n",
    "    except NoSuchElementException:\n",
    "        return None  # Return None if no paragraph is found\n",
    "\n",
    "# Apply the function to each URL in the 'Link' column of the DataFrame\n",
    "df['Paragraph_Text'] = df['Link'].apply(get_paragraph_text)\n"
   ]
  },
  {
   "cell_type": "code",
   "execution_count": null,
   "metadata": {},
   "outputs": [],
   "source": [
    "df"
   ]
  },
  {
   "cell_type": "markdown",
   "metadata": {},
   "source": [
    "# Limpieza de Datos - general"
   ]
  },
  {
   "cell_type": "code",
   "execution_count": 121,
   "metadata": {},
   "outputs": [
    {
     "data": {
      "text/plain": [
       "Año                0\n",
       "Título             0\n",
       "Título original    0\n",
       "País               0\n",
       "Director           0\n",
       "Idioma             0\n",
       "Link               0\n",
       "Paragraph_Text     6\n",
       "dtype: int64"
      ]
     },
     "execution_count": 121,
     "metadata": {},
     "output_type": "execute_result"
    }
   ],
   "source": [
    "df.isnull().sum()"
   ]
  },
  {
   "cell_type": "markdown",
   "metadata": {},
   "source": [
    "Se llenan las sinopsis no encontradas con datos de https://www.filmaffinity.com/"
   ]
  },
  {
   "cell_type": "markdown",
   "metadata": {},
   "source": [
    "1. Data frame con las sinopsis de las peliculas no encontradas"
   ]
  },
  {
   "cell_type": "markdown",
   "metadata": {},
   "source": [
    "# TF-IDF: Representar las sinopsis"
   ]
  },
  {
   "cell_type": "markdown",
   "metadata": {},
   "source": [
    "Recordemos que:\n",
    "\n",
    "- **TF (Term Frequency)** mide la frecuencia con la que aparece una palabra en un documento. Si una palabra aparece muchas veces en un documento, se considera importante dentro de ese documento.\n",
    "- **IDF (Inverse Document Frequency**) disminuye el peso de las palabras que aparecen muy frecuentemente en la colección de documentos y aumenta el peso de las palabras que son raras."
   ]
  },
  {
   "cell_type": "markdown",
   "metadata": {},
   "source": [
    "## Limpieza de datos"
   ]
  },
  {
   "cell_type": "code",
   "execution_count": 1,
   "metadata": {},
   "outputs": [],
   "source": [
    "import pandas as pd\n",
    "df = pd.read_csv('oscars_sfinal.csv', sep=';')"
   ]
  },
  {
   "cell_type": "code",
   "execution_count": 2,
   "metadata": {},
   "outputs": [],
   "source": [
    "df = df.rename(columns={'Paragraph_Text': 'Sinopsis'})"
   ]
  },
  {
   "cell_type": "code",
   "execution_count": 3,
   "metadata": {},
   "outputs": [],
   "source": [
    "import spacy\n",
    "from unidecode import unidecode\n",
    "\n",
    "# Carga el modelo en español de spaCy\n",
    "nlp = spacy.load('es_core_news_sm')\n",
    "\n",
    "# Lista de palabras adicionales para considerar como stopwords\n",
    "stop_words_extra = ['algún', 'alguna', 'algunos', 'algunas', 'aquel', 'aquella', 'aquellos', 'aquellas', 'mío', 'mía', 'él']\n",
    "\n",
    "# Añade las palabras adicionales a las stopwords de spaCy\n",
    "for stopword in stop_words_extra:\n",
    "    # Usamos unidecode para normalizar el texto y evitar errores por caracteres especiales\n",
    "    normalized_stopword = unidecode(stopword)\n",
    "    nlp.Defaults.stop_words.add(normalized_stopword)\n",
    "\n",
    "def lematizar_texto(texto):\n",
    "    # Procesa el texto con spaCy\n",
    "    doc = nlp(texto)\n",
    "    # Extrae los lemas de cada token en el documento\n",
    "    lemas = [token.lemma_ for token in doc if token.is_alpha and not token.is_stop and not unidecode(token.lemma_) in [unidecode(sw) for sw in stop_words_extra]]\n",
    "    # Reconstruye el texto procesado\n",
    "    texto_procesado = ' '.join(lemas)\n",
    "    return texto_procesado\n",
    "\n",
    "df['sinopsis_limpia'] = df['Sinopsis'].apply(lematizar_texto)\n"
   ]
  },
  {
   "cell_type": "markdown",
   "metadata": {},
   "source": [
    "## Calibrar vectorizador"
   ]
  },
  {
   "cell_type": "markdown",
   "metadata": {},
   "source": [
    "### PCA"
   ]
  },
  {
   "cell_type": "code",
   "execution_count": 26,
   "metadata": {},
   "outputs": [
    {
     "name": "stdout",
     "output_type": "stream",
     "text": [
      "Tópico 0:\n",
      "historia comenzar celebrar amor hombre momento desarrollar regresar\n",
      "Tópico 1:\n",
      "nazi mundial guerra historia judío vida alemania desarrollar\n",
      "Tópico 2:\n",
      "grupo encontrar llamado amante matrimonio volver soldado lugar\n",
      "Tópico 3:\n",
      "vida comenzar celebrar vivir trabajo padre año quedar\n"
     ]
    }
   ],
   "source": [
    "from sklearn.feature_extraction.text import TfidfVectorizer\n",
    "from sklearn.decomposition import PCA\n",
    "import numpy as np\n",
    "\n",
    "# Configurar el vectorizador TF-IDF con parámetros específicos\n",
    "vectores = TfidfVectorizer(max_df=0.8, max_features=80, stop_words=['él', 'película', 'hacer', 'cine', 'cuyo'])\n",
    "\n",
    "# Aplicar el vectorizador a tus datos y convertir la matriz a una matriz densa\n",
    "matriz_tfidf = vectores.fit_transform(df['sinopsis_limpia']).toarray()\n",
    "\n",
    "# Obtener nombres de características\n",
    "nombres = vectores.get_feature_names_out()\n",
    "\n",
    "# Ajustar PCA a la matriz TF-IDF\n",
    "pca = PCA(n_components=4).fit(matriz_tfidf)\n",
    "\n",
    "# Definir función para mostrar los tópicos y las palabras clave asociadas\n",
    "def display_topics(feature_names, model, no_top_words):\n",
    "    for topic_idx, topic in enumerate(model.components_):\n",
    "        print(\"Tópico %d:\" % topic_idx)\n",
    "        print(\" \".join([feature_names[i] for i in topic.argsort()[:-no_top_words - 1:-1]]))\n",
    "\n",
    "no_top_words = 8\n",
    "\n",
    "display_topics(nombres, pca, no_top_words)\n",
    "\n"
   ]
  },
  {
   "cell_type": "markdown",
   "metadata": {},
   "source": [
    "### NMF"
   ]
  },
  {
   "cell_type": "code",
   "execution_count": 40,
   "metadata": {},
   "outputs": [],
   "source": [
    "from sklearn.feature_extraction.text import TfidfVectorizer\n",
    "from sklearn.metrics.pairwise import cosine_similarity"
   ]
  },
  {
   "cell_type": "markdown",
   "metadata": {},
   "source": [
    "miramos el numero de palabras totales"
   ]
  },
  {
   "cell_type": "code",
   "execution_count": 41,
   "metadata": {},
   "outputs": [
    {
     "data": {
      "text/plain": [
       "2944"
      ]
     },
     "execution_count": 41,
     "metadata": {},
     "output_type": "execute_result"
    }
   ],
   "source": [
    "# numero de palabras en toda la columna de sinopsis_limpia\n",
    "df['sinopsis_limpia'].str.split().str.len().sum()"
   ]
  },
  {
   "cell_type": "code",
   "execution_count": 55,
   "metadata": {},
   "outputs": [],
   "source": [
    "vectorizador_tfidf = TfidfVectorizer(max_df=0.90,min_df=0.1 ,max_features=1000)\n",
    "matriz_tfidf = vectorizador_tfidf.fit_transform(df['sinopsis_limpia'])"
   ]
  },
  {
   "cell_type": "markdown",
   "metadata": {},
   "source": [
    "- max_df: Ignora los términos que tienen una frecuencia de documento más alta que el valor dado.\n",
    "- min_df: Ignora los términos que tienen una frecuencia de documento más baja que el valor dado.\n",
    "- max_features: Establece el número máximo de términos que serán considerados, los cuales son los más frecuentes."
   ]
  },
  {
   "cell_type": "markdown",
   "metadata": {},
   "source": [
    "(índice del documento, indice del término) ->  Peso TF-IDF para el término correspondiente en ese documento.\n"
   ]
  },
  {
   "cell_type": "code",
   "execution_count": 58,
   "metadata": {},
   "outputs": [],
   "source": [
    "similitud_coseno = cosine_similarity(matriz_tfidf, matriz_tfidf)"
   ]
  },
  {
   "cell_type": "code",
   "execution_count": 7,
   "metadata": {},
   "outputs": [],
   "source": [
    "from sklearn.feature_extraction.text import TfidfVectorizer\n",
    "from sklearn.decomposition import NMF"
   ]
  },
  {
   "cell_type": "code",
   "execution_count": 8,
   "metadata": {},
   "outputs": [
    {
     "name": "stdout",
     "output_type": "stream",
     "text": [
      "Tópico 0:\n",
      "padre madre año vivir casa pequeño hijo\n",
      "Tópico 1:\n",
      "historia comenzar celebrar amor desarrollar ciudad hombre\n",
      "Tópico 2:\n",
      "nazi mundial guerra judío vida alemania concentración\n",
      "Tópico 3:\n",
      "grupo amigo encontrar matrimonio trabajo llamado comenzar\n"
     ]
    }
   ],
   "source": [
    "# Configurar el vectorizador TF-IDF con parámetros específicos\n",
    "vectores = TfidfVectorizer(max_df=0.8, max_features=80, stop_words=['él', 'película','hacer', 'cine', 'cuyo'])\n",
    "tfslimpio = vectores.fit_transform(df['sinopsis_limpia']) \n",
    "nombreslimpio = vectores.get_feature_names_out()\n",
    "\n",
    "\n",
    "# Configurar y aplicar el modelo NMF a la matriz TF-IDF\n",
    "nmflimpio = NMF(n_components=4, random_state=1, l1_ratio=.5, init='nndsvd').fit(tfslimpio)\n",
    "\n",
    "# Función para mostrar los tópicos y las palabras clave asociadas\n",
    "def display_topics(model, feature_names, no_top_words):\n",
    "    for topic_idx, topic in enumerate(model.components_):\n",
    "        print(\"Tópico %d:\" % topic_idx)\n",
    "        print(\" \".join([feature_names[i] for i in topic.argsort()[:-no_top_words - 1:-1]]))\n",
    "\n",
    "no_top_words = 7\n",
    "\n",
    "\n",
    "display_topics(nmflimpio, nombreslimpio, no_top_words)\n"
   ]
  },
  {
   "cell_type": "code",
   "execution_count": 151,
   "metadata": {},
   "outputs": [
    {
     "name": "stderr",
     "output_type": "stream",
     "text": [
      "/Users/paulatorres/anaconda3/lib/python3.11/site-packages/sklearn/decomposition/_nmf.py:1710: ConvergenceWarning: Maximum number of iterations 200 reached. Increase it to improve convergence.\n",
      "  warnings.warn(\n",
      "/Users/paulatorres/anaconda3/lib/python3.11/site-packages/sklearn/decomposition/_nmf.py:1710: ConvergenceWarning: Maximum number of iterations 200 reached. Increase it to improve convergence.\n",
      "  warnings.warn(\n",
      "/Users/paulatorres/anaconda3/lib/python3.11/site-packages/sklearn/decomposition/_nmf.py:1710: ConvergenceWarning: Maximum number of iterations 200 reached. Increase it to improve convergence.\n",
      "  warnings.warn(\n"
     ]
    },
    {
     "data": {
      "image/png": "[encoded data removed]",
      "text/plain": [
       "<Figure size 1000x600 with 1 Axes>"
      ]
     },
     "metadata": {},
     "output_type": "display_data"
    }
   ],
   "source": [
    "import numpy as np\n",
    "import matplotlib.pyplot as plt\n",
    "\n",
    "# Inertia es una medida de la calidad del clustering\n",
    "inertia = []\n",
    "# Prueba diferentes números de componentes\n",
    "num_componentes = range(1, 11)\n",
    "\n",
    "for k in num_componentes:\n",
    "    # Entrenar el modelo NMF con el número de componentes actual\n",
    "    nmf = NMF(n_components=k, random_state=1, l1_ratio=.5, init='nndsvd')\n",
    "    nmf.fit(tfslimpio)\n",
    "    # Añadir la inercia a la lista\n",
    "    inertia.append(nmf.reconstruction_err_)\n",
    "\n",
    "# Graficar la inercia en función del número de componentes\n",
    "plt.figure(figsize=(10, 6))\n",
    "plt.plot(num_componentes, inertia, marker='o')\n",
    "plt.xlabel('Número de Componentes')\n",
    "plt.ylabel('Divergencia KL')\n",
    "plt.xlim(0, max(num_componentes))\n",
    "plt.title('Método del Codo para Determinar el Número Óptimo de Componentes en NMF')\n",
    "plt.show()\n"
   ]
  },
  {
   "cell_type": "code",
   "execution_count": 17,
   "metadata": {},
   "outputs": [
    {
     "ename": "ModuleNotFoundError",
     "evalue": "No module named 'adjustText'",
     "output_type": "error",
     "traceback": [
      "\u001b[0;31m---------------------------------------------------------------------------\u001b[0m",
      "\u001b[0;31mModuleNotFoundError\u001b[0m                       Traceback (most recent call last)",
      "Cell \u001b[0;32mIn[17], line 3\u001b[0m\n\u001b[1;32m      1\u001b[0m \u001b[38;5;28;01mimport\u001b[39;00m \u001b[38;5;21;01mseaborn\u001b[39;00m \u001b[38;5;28;01mas\u001b[39;00m \u001b[38;5;21;01msns\u001b[39;00m\n\u001b[1;32m      2\u001b[0m \u001b[38;5;28;01mimport\u001b[39;00m \u001b[38;5;21;01mmatplotlib\u001b[39;00m\u001b[38;5;21;01m.\u001b[39;00m\u001b[38;5;21;01mpyplot\u001b[39;00m \u001b[38;5;28;01mas\u001b[39;00m \u001b[38;5;21;01mplt\u001b[39;00m\n\u001b[0;32m----> 3\u001b[0m \u001b[38;5;28;01mfrom\u001b[39;00m \u001b[38;5;21;01madjustText\u001b[39;00m \u001b[38;5;28;01mimport\u001b[39;00m adjust_text  \u001b[38;5;66;03m# Asegúrate de instalar este paquete\u001b[39;00m\n\u001b[1;32m      5\u001b[0m \u001b[38;5;66;03m# Suponiendo que cargas_topico, df_filtered, y otras variables necesarias ya están definidas\u001b[39;00m\n\u001b[1;32m      6\u001b[0m \n\u001b[1;32m      7\u001b[0m \u001b[38;5;66;03m# Coordenadas para el gráfico\u001b[39;00m\n\u001b[1;32m      8\u001b[0m coordenadas_x \u001b[38;5;241m=\u001b[39m cargas_topico[:, \u001b[38;5;241m0\u001b[39m]  \u001b[38;5;66;03m# Utilizamos la primera componente\u001b[39;00m\n",
      "\u001b[0;31mModuleNotFoundError\u001b[0m: No module named 'adjustText'"
     ]
    }
   ],
   "source": [
    "import seaborn as sns\n",
    "import matplotlib.pyplot as plt\n",
    "from adjustText import adjust_text  # Asegúrate de instalar este paquete\n",
    "\n",
    "# Suponiendo que cargas_topico, df_filtered, y otras variables necesarias ya están definidas\n",
    "\n",
    "# Coordenadas para el gráfico\n",
    "coordenadas_x = cargas_topico[:, 0]  # Utilizamos la primera componente\n",
    "coordenadas_y = cargas_topico[:, 1]  # Utilizamos la segunda componente\n",
    "\n",
    "# Configurar los límites del eje x e y\n",
    "limite = 0.3\n",
    "\n",
    "# Graficar las cargas de tópicos para los documentos\n",
    "plt.figure(figsize=(15, 10))\n",
    "scatter = sns.scatterplot(x=coordenadas_x, y=coordenadas_y, alpha=0.5)  # alpha para transparencia de puntos\n",
    "plt.title('Similitud entre películas basada en tópicos de NMF (Componente 0)')\n",
    "plt.xlabel('Componente 0')\n",
    "plt.ylabel('Componente 1')\n",
    "\n",
    "# Ajustar los límites del eje x e y manualmente para hacer zoom\n",
    "plt.xlim(0, limite)\n",
    "plt.ylim(0, limite)\n",
    "\n",
    "# Crear una lista para guardar las etiquetas de texto y evitar la superposición\n",
    "texts = []\n",
    "for i, (nombre, año) in enumerate(zip(df_filtered['Título'], df_filtered['Año'])):\n",
    "    if 0 <= coordenadas_x[i] <= limite and 0 <= coordenadas_y[i] <= limite:\n",
    "        texts.append(plt.text(coordenadas_x[i], coordenadas_y[i], f'{nombre} ({año})', fontsize=9))\n",
    "\n",
    "# Usar adjustText para optimizar la posición de las etiquetas\n",
    "adjust_text(texts, arrowprops=dict(arrowstyle='->', color='red'))\n",
    "\n",
    "# Mostrar o guardar la figura\n",
    "plt.tight_layout()  # Ajustar el layout antes de guardar\n",
    "plt.savefig('output.png', dpi=300)  # Guardar la figura con alta resolución\n",
    "plt.show()  # Descomenta esta línea si solo deseas mostrar el gráfico\n"
   ]
  },
  {
   "cell_type": "code",
   "execution_count": null,
   "metadata": {},
   "outputs": [],
   "source": [
    "coordenadas_x = cargas_topico[:, 0]\n",
    "coordenadas_y = cargas_topico[:, 1]\n",
    "\n",
    "# agregar coodenadas a los tópicos\n",
    "plt.figure(figsize=(10, 6))\n",
    "plt.scatter(coordenadas_x, coordenadas_y, color='blue', s=100)\n",
    "plt.xlabel('Componente 1')\n",
    "plt.ylabel('Componente 2')\n",
    "plt.title('Distribución de Tópicos en el Espacio de Componentes Principales')\n",
    "plt.grid(True)\n",
    "plt.show()\n"
   ]
  }
 ],
 "metadata": {
  "kernelspec": {
   "display_name": "base",
   "language": "python",
   "name": "python3"
  },
  "language_info": {
   "codemirror_mode": {
    "name": "ipython",
    "version": 3
   },
   "file_extension": ".py",
   "mimetype": "text/x-python",
   "name": "python",
   "nbconvert_exporter": "python",
   "pygments_lexer": "ipython3",
   "version": "3.11.5"
  }
 },
 "nbformat": 4,
 "nbformat_minor": 2
}
